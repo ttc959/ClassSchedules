{
 "cells": [
  {
   "cell_type": "markdown",
   "metadata": {},
   "source": [
    "#### This program reports all classes scheduled at a Texas college. "
   ]
  },
  {
   "cell_type": "code",
   "execution_count": 1,
   "metadata": {},
   "outputs": [],
   "source": [
    "def get_course_data():\n",
    "    \"\"\"Read data from JSON file and convert to Python dictionary. Read data from text file and convert to Python\n",
    "    list.\"\"\"\n",
    "    import json\n",
    "\n",
    "    avail_clean_courses_list = []\n",
    "       \n",
    "    with open('/Users/whoamygoodness/CIS5357Exam2/exam2.json', 'r') as json_input_file:\n",
    "        scheduled_courses_json_dict = json.load(json_input_file)\n",
    "    \n",
    "    avail_courses_input_file = open('/Users/whoamygoodness/CIS5357Exam2/Courses.txt', 'r')\n",
    "    \n",
    "    for course_record in avail_courses_input_file: \n",
    "        course_record_strip = course_record.rstrip('\\n')\n",
    "        avail_clean_courses_list.append(course_record_strip)\n",
    "        \n",
    "    avail_courses_input_file.close()\n",
    "        \n",
    "    return scheduled_courses_json_dict, avail_clean_courses_list"
   ]
  },
  {
   "cell_type": "code",
   "execution_count": 2,
   "metadata": {},
   "outputs": [],
   "source": [
    "def process_course_data(scheduled_courses, avail_courses):\n",
    "    \"\"\"Compare available course to scheduled courses. Extract course info if available course is in \n",
    "    list of scheduled courses. \"\"\"\n",
    "    num_courses_scheduled = 0\n",
    "    num_courses_not_scheduled = 0\n",
    "    num_courses_avail = 0\n",
    "    sched_courses_list = []\n",
    "    \n",
    "    for avail_course_num in avail_courses:\n",
    "        if avail_course_num in scheduled_courses.keys():\n",
    "            course_number = avail_course_num\n",
    "            room_number = (scheduled_courses[avail_course_num]['Room'])\n",
    "            instructor_name = (scheduled_courses[avail_course_num]['Instructor'])\n",
    "            start_time = (scheduled_courses[avail_course_num]['Start Time'])\n",
    "            course_record = (f'{course_number},{room_number},{instructor_name},{start_time}')\n",
    "            num_courses_scheduled += 1\n",
    "            sched_courses_list.append(course_record)\n",
    "        else:\n",
    "            course_number = avail_course_num\n",
    "            course_record = (f'{course_number}, Course is not scheduled to be offered this semester.')\n",
    "            num_courses_not_scheduled += 1\n",
    "            sched_courses_list.append(course_record)\n",
    "            \n",
    "        num_courses_avail += 1\n",
    "        \n",
    "    return sched_courses_list, num_courses_avail, num_courses_scheduled, num_courses_not_scheduled "
   ]
  },
  {
   "cell_type": "code",
   "execution_count": 3,
   "metadata": {},
   "outputs": [],
   "source": [
    "def write_course_schedule(sched_courses_list, num_courses_avail, num_courses_scheduled, num_courses_not_scheduled):\n",
    "    \"\"\"Write results of program to file.\"\"\"\n",
    "    \n",
    "    with open('/Users/whoamygoodness/CIS5357Exam2/Exam2Output.txt', 'w') as course_record_output_file:\n",
    "        \n",
    "        course_record_output_file.write('Course\\t\\tRoom Num\\t\\tStart Time\\t\\tInstructor\\n')\n",
    "        course_record_output_file.write('------\\t\\t--------\\t\\t----------\\t\\t----------\\n')\n",
    "    \n",
    "        for record in sched_courses_list:\n",
    "            element_count = 0\n",
    "            course_record_split = record.split(',')\n",
    "            for element in course_record_split:\n",
    "                element_count += 1\n",
    "        \n",
    "            if element_count >2:\n",
    "                course_number = course_record_split[0]\n",
    "                room_number = course_record_split[1]\n",
    "                instructor_name = course_record_split[2]\n",
    "                start_time = course_record_split[3]\n",
    "                course_record = (f\"{format(course_number)}\\t\\t{format(room_number)}\\t\\t{format(start_time, '>15')}\\t\\t{format(instructor_name)}\\n\")\n",
    "\n",
    "            else:     \n",
    "                course_number = course_record_split[0]\n",
    "                course_record = (f'{course_number}\\t\\tCourse is not scheduled to be offered this semester.\\n')\n",
    "            course_record_output_file.write(course_record)\n",
    "    \n",
    "        course_record_output_file.write('\\n\\n')\n",
    "        course_record_output_file.write(f'Total Number of Courses Available:\\t{num_courses_avail}\\n')\n",
    "        course_record_output_file.write(f'Total Number of Courses Scheduled:\\t{num_courses_scheduled}\\n')\n",
    "        course_record_output_file.write(f'Total Number of Courses Not Scheduled:\\t{num_courses_not_scheduled}\\n')\n",
    "        course_record_output_file.write('\\n')\n",
    "        course_record_output_file.write(\"Program completed successfully.\")\n"
   ]
  },
  {
   "cell_type": "code",
   "execution_count": 4,
   "metadata": {},
   "outputs": [],
   "source": [
    "def print_course_schedule(sched_courses_list, num_courses_avail, num_courses_scheduled, num_courses_not_scheduled):\n",
    "    \"\"\"Print results of program to console.\"\"\"\n",
    "    print('Course\\t\\tRoom Num\\t\\tStart Time\\t\\tInstructor')\n",
    "    print('------\\t\\t--------\\t\\t----------\\t\\t----------')\n",
    "    for record in sched_courses_list:\n",
    "        element_count = 0\n",
    "        course_record_split = record.split(',')\n",
    "        for element in course_record_split:\n",
    "            element_count += 1\n",
    "        \n",
    "        if element_count >2:\n",
    "            course_number = course_record_split[0]\n",
    "            room_number = course_record_split[1]\n",
    "            instructor_name = course_record_split[2]\n",
    "            start_time = course_record_split[3]\n",
    "            course_record = (f\"{format(course_number)}\\t\\t{format(room_number)}\\t\\t{format(start_time, '>15')}\\t\\t{format(instructor_name)}\")\n",
    "\n",
    "        else:     \n",
    "            course_number = course_record_split[0]\n",
    "            course_record = (f'{course_number}\\t\\tCourse is not scheduled to be offered this semester.')\n",
    "        print(course_record)\n",
    "    \n",
    "    print('\\n\\n')\n",
    "    print(f'Total Number of Courses Available:\\t{num_courses_avail}')\n",
    "    print(f'Total Number of Courses Scheduled:\\t{num_courses_scheduled}')\n",
    "    print(f'Total Number of Courses Not Scheduled:\\t{num_courses_not_scheduled}')\n",
    "    print('\\n')\n",
    "    print(\"Program completed successfully.\")"
   ]
  },
  {
   "cell_type": "code",
   "execution_count": 5,
   "metadata": {},
   "outputs": [],
   "source": [
    "def main():\n",
    "    \"\"\"Call all functions to execute program.\"\"\"\n",
    "    scheduled_courses_dict, avail_courses_list = get_course_data()\n",
    "    sched_course_list, num_avail, num_sched, not_not_sched = process_course_data(scheduled_courses_dict, avail_courses_list)\n",
    "    write_course_schedule(sched_course_list, num_avail, num_sched, not_not_sched)\n",
    "    print_course_schedule(sched_course_list, num_avail, num_sched, not_not_sched)\n"
   ]
  },
  {
   "cell_type": "code",
   "execution_count": 6,
   "metadata": {},
   "outputs": [
    {
     "name": "stdout",
     "output_type": "stream",
     "text": [
      "Course\t\tRoom Num\t\tStart Time\t\tInstructor\n",
      "------\t\t--------\t\t----------\t\t----------\n",
      "CS101\t\tCSB 3004\t\t     MWF 8:00AM\t\tHenry Haynes\n",
      "CS102\t\tCSB 4501\t\t     MWF 9:00AM\t\tRichard Alvardo\n",
      "CS103\t\tCSB 6755\t\t    MWF 10:00AM\t\tI. M. Rich\n",
      "NT110\t\tAlk 1244\t\t    MWF 11:00AM\t\tCharles Burke\n",
      "CM241\t\tALK 1411\t\t      TR 1:00PM\t\tVicki Lees\n",
      "CIS1323\t\tCourse is not scheduled to be offered this semester.\n",
      "CIS2324\t\tMCOY 332\t\t      TR 9:30AM\t\tSam Lee\n",
      "CIS3325\t\tMCOY 332\t\t      TR 2:00PM\t\tJim Keefe\n",
      "CIS3389\t\tCourse is not scheduled to be offered this semester.\n",
      "CIS5357\t\tMCOY 224\t\t       T 6:30PM\t\tM. Mehta\n",
      "CIS3391\t\tCourse is not scheduled to be offered this semester.\n",
      "CIS3392\t\tCourse is not scheduled to be offered this semester.\n",
      "QM2333\t\tMCOY 222\t\t     TR 12:30PM\t\tJennifer Masters\n",
      "QM3339\t\tCourse is not scheduled to be offered this semester.\n",
      "QM5335\t\tCourse is not scheduled to be offered this semester.\n",
      "QM5336\t\tMCOY 319\t\t       W 6:30PM\t\tM. Musal\n",
      "FIN3312\t\tCourse is not scheduled to be offered this semester.\n",
      "FIN4335\t\tCourse is not scheduled to be offered this semester.\n",
      "\n",
      "\n",
      "\n",
      "Total Number of Courses Available:\t18\n",
      "Total Number of Courses Scheduled:\t10\n",
      "Total Number of Courses Not Scheduled:\t8\n",
      "\n",
      "\n",
      "Program completed successfully.\n"
     ]
    }
   ],
   "source": [
    "main()"
   ]
  }
 ],
 "metadata": {
  "kernelspec": {
   "display_name": "Python 3",
   "language": "python",
   "name": "python3"
  },
  "language_info": {
   "codemirror_mode": {
    "name": "ipython",
    "version": 3
   },
   "file_extension": ".py",
   "mimetype": "text/x-python",
   "name": "python",
   "nbconvert_exporter": "python",
   "pygments_lexer": "ipython3",
   "version": "3.8.3"
  }
 },
 "nbformat": 4,
 "nbformat_minor": 4
}
